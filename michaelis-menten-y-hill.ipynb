{
  "nbformat": 4,
  "nbformat_minor": 0,
  "metadata": {
    "colab": {
      "name": "Untitled68.ipynb",
      "provenance": [],
      "authorship_tag": "ABX9TyNXhU/oJTjsX2NCAY76ibg6",
      "include_colab_link": true
    },
    "kernelspec": {
      "name": "python3",
      "display_name": "Python 3"
    }
  },
  "cells": [
    {
      "cell_type": "markdown",
      "metadata": {
        "id": "view-in-github",
        "colab_type": "text"
      },
      "source": [
        "<a href=\"https://colab.research.google.com/github/sysbio-unam/practicas-computacionales-con-R/blob/main/michaelis-menten-y-hill.ipynb\" target=\"_parent\"><img src=\"https://colab.research.google.com/assets/colab-badge.svg\" alt=\"Open In Colab\"/></a>"
      ]
    },
    {
      "cell_type": "markdown",
      "metadata": {
        "id": "gg6nGK-Iv0pR"
      },
      "source": [
        "Título: Las ecuación de Michaelis-Menten y la ecuación de Hill\r\n",
        "\r\n",
        "Autor: Biología de sistemas UNAM\r\n",
        "\r\n",
        "Fecha: febrero 2021"
      ]
    },
    {
      "cell_type": "markdown",
      "metadata": {
        "id": "lm5u4KlAwIK2"
      },
      "source": [
        "Mostrar ultrasensibilidad, para diferentes coeficientes de Hill. Ejemplo de cómo se obtienen de manera simbólica los puntos de equilibrio de un sistema de EDOs, usando Python "
      ]
    },
    {
      "cell_type": "code",
      "metadata": {
        "id": "u9GOt7gcuXXF"
      },
      "source": [
        ""
      ],
      "execution_count": null,
      "outputs": []
    }
  ]
}