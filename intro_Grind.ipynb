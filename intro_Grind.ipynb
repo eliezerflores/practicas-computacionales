{
  "nbformat": 4,
  "nbformat_minor": 0,
  "metadata": {
    "colab": {
      "name": "Untitled68.ipynb",
      "provenance": [],
      "authorship_tag": "ABX9TyOnEZRW54cijwMw449b1ott",
      "include_colab_link": true
    },
    "kernelspec": {
      "name": "python3",
      "display_name": "Python 3"
    }
  },
  "cells": [
    {
      "cell_type": "markdown",
      "metadata": {
        "id": "view-in-github",
        "colab_type": "text"
      },
      "source": [
        "<a href=\"https://colab.research.google.com/github/sysbio-unam/practicas-computacionales-con-R/blob/main/intro_Grind.ipynb\" target=\"_parent\"><img src=\"https://colab.research.google.com/assets/colab-badge.svg\" alt=\"Open In Colab\"/></a>"
      ]
    },
    {
      "cell_type": "markdown",
      "metadata": {
        "id": "gg6nGK-Iv0pR"
      },
      "source": [
        "Título: Introducción a Grind\r\n",
        "\r\n",
        "Autor: Biología de sistemas UNAM\r\n",
        "\r\n",
        "Fecha: febrero 2021"
      ]
    },
    {
      "cell_type": "markdown",
      "metadata": {
        "id": "lm5u4KlAwIK2"
      },
      "source": [
        "Declarar modelo, integrar numéricamente, cambiar parámetros y condiciones iniciales, optimizar (mostrar ejemplo del dímero)"
      ]
    },
    {
      "cell_type": "code",
      "metadata": {
        "id": "u9GOt7gcuXXF"
      },
      "source": [
        ""
      ],
      "execution_count": null,
      "outputs": []
    }
  ]
}