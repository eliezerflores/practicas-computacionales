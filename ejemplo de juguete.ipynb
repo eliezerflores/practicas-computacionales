{
  "nbformat": 4,
  "nbformat_minor": 0,
  "metadata": {
    "colab": {
      "name": "Untitled68.ipynb",
      "provenance": [],
      "authorship_tag": "ABX9TyM669dyz1l6gKSqdVYCD2P2",
      "include_colab_link": true
    },
    "kernelspec": {
      "name": "python3",
      "display_name": "Python 3"
    }
  },
  "cells": [
    {
      "cell_type": "markdown",
      "metadata": {
        "id": "view-in-github",
        "colab_type": "text"
      },
      "source": [
        "<a href=\"https://colab.research.google.com/github/sysbio-unam/practicas-computacionales-con-R/blob/main/ejemplo%20de%20juguete.ipynb\" target=\"_parent\"><img src=\"https://colab.research.google.com/assets/colab-badge.svg\" alt=\"Open In Colab\"/></a>"
      ]
    },
    {
      "cell_type": "markdown",
      "metadata": {
        "id": "7w6FSdFcvW8y"
      },
      "source": [
        "Título: Ejemplos de juguete\r\n",
        "\r\n",
        "Autor: Biología de Sistemas UNAM\r\n",
        "\r\n",
        "Fecha: febrero 2021"
      ]
    },
    {
      "cell_type": "markdown",
      "metadata": {
        "id": "rOZ_GoJ4vigp"
      },
      "source": [
        "Mostras ejemplo de depredador presa, dímero/crecimiento logístico/\"muerte\"."
      ]
    },
    {
      "cell_type": "code",
      "metadata": {
        "colab": {
          "base_uri": "https://localhost:8080/"
        },
        "id": "CCefXVK9uT5V",
        "outputId": "ea26728f-16ce-4fae-9c13-e0b46b3fedcf"
      },
      "source": [
        "print(\"hola\")"
      ],
      "execution_count": null,
      "outputs": [
        {
          "output_type": "stream",
          "text": [
            "hola\n"
          ],
          "name": "stdout"
        }
      ]
    },
    {
      "cell_type": "code",
      "metadata": {
        "id": "u9GOt7gcuXXF"
      },
      "source": [
        ""
      ],
      "execution_count": null,
      "outputs": []
    }
  ]
}