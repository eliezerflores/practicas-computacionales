{
  "nbformat": 4,
  "nbformat_minor": 0,
  "metadata": {
    "colab": {
      "name": "Copy of Untitled7.ipynb",
      "provenance": [],
      "authorship_tag": "ABX9TyN2scqOSxw7LQGzdSR+ejhf",
      "include_colab_link": true
    },
    "kernelspec": {
      "name": "ir",
      "display_name": "R"
    }
  },
  "cells": [
    {
      "cell_type": "markdown",
      "metadata": {
        "id": "view-in-github",
        "colab_type": "text"
      },
      "source": [
        "<a href=\"https://colab.research.google.com/github/sysbio-unam/practicas-computacionales-con-R/blob/main/ejemplo_de_juguete.ipynb\" target=\"_parent\"><img src=\"https://colab.research.google.com/assets/colab-badge.svg\" alt=\"Open In Colab\"/></a>"
      ]
    },
    {
      "cell_type": "markdown",
      "metadata": {
        "id": "x2gOVVOXRvF8"
      },
      "source": [
        "Título: Ejemplos de juguete\n",
        "\n",
        "Autor: Biología de Sistemas UNAM\n",
        "\n",
        "Fecha: febrero 2021"
      ]
    },
    {
      "cell_type": "markdown",
      "metadata": {
        "id": "ZoqD0xEASX2K"
      },
      "source": [
        "Mostras ejemplo de depredador presa, dímero/crecimiento logístico/\"muerte\"."
      ]
    },
    {
      "cell_type": "markdown",
      "metadata": {
        "id": "w4-xs3VhnWZY"
      },
      "source": [
        "# 1. Ejemplo 1: Crecimiento exponencial "
      ]
    },
    {
      "cell_type": "markdown",
      "metadata": {
        "id": "wf24Ki4ynWhC"
      },
      "source": [
        "## 1. Describir el proceso  \n",
        "\n",
        "Se quiere modelar el crecimiento de un microorganismo en su etapa de crecimiento exponencial. En esta etapa se supone que el crecimiento del microorganismo es proporcional a la cantidad de este que se encuentra presente. Suponemos que la tasa de crecimiento es constante. Bajo estas condiciones la velocidad de crecimiento se puede escribir de la siguiente manera:\n",
        "\n",
        "$$\n",
        "v_{crec}(t) = k x(t) \\tag{1}\n",
        "$$\n",
        "\n",
        "Donde $k$ es la tasa de crecimento constante (1/h), y $x$ es la concentración del microorganismo (g/L) al tiempo $t$\n",
        "\n",
        "En el presente análisis se considera que no hay otra fuente de microorganismos diferente al crecimiento de los mismos. Tampoco se considera una muerte o consumo del microorganismo por parte de otra especie.  "
      ]
    },
    {
      "cell_type": "markdown",
      "metadata": {
        "id": "W4JYktpKnWnu"
      },
      "source": [
        "## 2. Red para decribir el proceso \n",
        "\n"
      ]
    },
    {
      "cell_type": "markdown",
      "metadata": {
        "id": "ZjKcshA0nWyX"
      },
      "source": [
        "![red_eje1.png](data:image/png;base64,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)"
      ]
    },
    {
      "cell_type": "markdown",
      "metadata": {
        "id": "Hfx-OyiUnW4e"
      },
      "source": [
        "Fig 1. Red del proceso del ejemplo 1. Se aprecia que se considera una sola variable, $x$, en el análisis. Existe un efecto positivo de $x$ sobre sí misma debido al crecimiento de los microorganismo a una tasa constante $k$"
      ]
    },
    {
      "cell_type": "markdown",
      "metadata": {
        "id": "xF0sQ4qOnXHa"
      },
      "source": [
        "## 3 . Establecer modelo \n",
        "\n",
        "Para el plantamiento del modelo se puede partir de una balance de biomasa de la siguiente manera\n",
        "\n",
        "$$\n",
        "\\text{cambio de biomasa en el proceso} = \\text{entrada de biomasa} - \\text{salida de biomasa} + \\text{generación de biomasa} - \\text{consumo de biomasa}\\\\\n",
        "$$\n",
        "\n",
        "\n",
        "Dado que no hay entrada, salida, o consumo de biomasa, se tiene \n",
        "\n",
        "$$\n",
        "\\text{cambio de biomasa en el proceso} = \\text{generación de biomasa} \n",
        "$$\n",
        "\n",
        "\n",
        "El cambio de biomasa con respecto del tiempo se escribe mediante una ED, y usamos (1) para representar la generación de biomasa\n",
        "\n",
        "$$\n",
        "\\frac{dx(t)}{dt} = kx(t) \\tag{2}\n",
        "$$\n",
        "\n"
      ]
    },
    {
      "cell_type": "markdown",
      "metadata": {
        "id": "cfyAc2VznXOI"
      },
      "source": [
        "Tabla 1. Parámetros del model del ejemplo 1 \n",
        "\n",
        "| parámetro | valor |\n",
        "|:---:|:---:|\n",
        "|   k (1/h) | 0.5    |"
      ]
    },
    {
      "cell_type": "markdown",
      "metadata": {
        "id": "ydtEw-MPol9v"
      },
      "source": [
        "El valor del parámetro $k$ en la Tabla 1 ha sido propuesto solo para mostrar el ejemplo "
      ]
    },
    {
      "cell_type": "markdown",
      "metadata": {
        "id": "nmrC14TLpN5x"
      },
      "source": [
        "## 4. Análisis de estabilidad \n",
        "\n",
        "Para obtner el punto de equilibrio igualamos (2) a 0 y resolvemos para $x$\n",
        "\n",
        "$$\n",
        "\\frac{dx(t)}{dt} = kx(t) = 0 \\rightarrow x_{ss} = 0\n",
        "$$\n",
        "\n",
        "Se obtuvo el punto de equilibrio trivial $x_{ss} = 0$\n",
        "\n",
        "Para determinar la estabilidad de este punto de equilibrio se pueden emplear varios razonamientos \n",
        "\n",
        "1. Calculo de eigenvalores \n",
        "\n",
        "PAra una ecuación diferencial como (2) el eigenvalor se obtiene como:\n",
        "\n",
        "$$\n",
        "\\lambda = \\frac{d(kx)}{dx} = k \\tag{3}\n",
        "$$\n",
        "\n",
        "De esta manera se tiene que el eigenvalor de (2) es $k$. Si este parámetro es positivo (tasa de crecimiento es positiva), el eigenvalor es positivo y el punto de equilibrio es inestable. Si k es negativo, entonces el eigenvalor es negativo y el punto de equilibrio es estable\n",
        "\n",
        "2. Graficar $dx/dt$ vs $x$"
      ]
    },
    {
      "cell_type": "code",
      "metadata": {
        "id": "Jm4s90LDrl8M"
      },
      "source": [
        "# establecer valor de parámetro\n",
        "k = 0.5 # 1/h"
      ],
      "execution_count": null,
      "outputs": []
    },
    {
      "cell_type": "code",
      "metadata": {
        "id": "U9UuN1FCrBfs"
      },
      "source": [
        "# cambio de x en t \n",
        "dxdt <- function(x) {\n",
        "\n",
        "    f = k*x\n",
        "\n",
        "    return(f)\n",
        "}"
      ],
      "execution_count": null,
      "outputs": []
    },
    {
      "cell_type": "code",
      "metadata": {
        "id": "HCGF3_2wrMyT"
      },
      "source": [
        "# valores de x a evaluar (deben ser biológicamente factibles)\n",
        "x <- seq(0,10,0.1) # g/L\n",
        "# evalur dx/dt\n",
        "f <- dxdt(x) # g/(hL)"
      ],
      "execution_count": null,
      "outputs": []
    },
    {
      "cell_type": "code",
      "metadata": {
        "colab": {
          "base_uri": "https://localhost:8080/",
          "height": 437
        },
        "id": "xCNZ_6L0rw3O",
        "outputId": "75590bfb-ab47-4ade-b829-570c6d22a224"
      },
      "source": [
        "# mostrar gráfica \n",
        "plot(x,f, xlab = \"x (g/L)\", ylab = \"dx/dt (g/(hL))\", type = \"l\", cex.lab = 1.5)"
      ],
      "execution_count": null,
      "outputs": [
        {
          "output_type": "display_data",
          "data": {
            "image/png": "[encoded data removed]",
            "text/plain": [
              "plot without title"
            ]
          },
          "metadata": {
            "tags": [],
            "image/png": {
              "width": 420,
              "height": 420
            }
          }
        }
      ]
    },
    {
      "cell_type": "markdown",
      "metadata": {
        "id": "bkz_FzN5sHCz"
      },
      "source": [
        "Fig 2. Gráfica de $dx/dt$ vs $x$. Se observa que para cualquier valor de $x$ su cambio, $dx/dt$, siempre es positivo. Por esta razón se concluye que para cualquier valor de $x$ distinto de 0, el crecimiento exponencial hará que el sistema se aleje de 0. "
      ]
    },
    {
      "cell_type": "markdown",
      "metadata": {
        "id": "aAFj03gSs_Uk"
      },
      "source": [
        "## 2. Análisis dinámico (integración numérica)"
      ]
    },
    {
      "cell_type": "markdown",
      "metadata": {
        "id": "KusikUR5tD6r"
      },
      "source": [
        "### Breve explicación del método de euler\n",
        "\n",
        "Se tiene la función \n",
        "\n",
        "$$\n",
        "y(x) =  x^2 \\tag{4}\n",
        "$$\n",
        "\n",
        "el valor de la función en $x_0 = 1$ es:\n",
        "\n",
        "$$\n",
        "y(1) = 1^2 = 1\n",
        "$$\n",
        "\n",
        "la derivada de (4) es:\n",
        "\n",
        "$$\n",
        "\\frac{dy}{dt} = \\dot{y}(x) =  2x \\tag{5}\n",
        "$$\n",
        "\n",
        "y su valor en $x_0 = 1$ es: \n",
        "\n",
        "$$\n",
        "\\dot{y}(1) = 2 \\times 1 = 2\\\n",
        "$$\n",
        "\n",
        "por lo tanto tenemos que la ecuación de la recta tangente a (4) en $x_0$ es: \n",
        "\n",
        "$$\n",
        "y_t(x) = y(x_0)  + m(x - x_0)  = 1 + 2(x - 1) \\\n",
        "$$\n",
        "\n",
        "\n",
        "$$\n",
        "y_t(x) = -1 + 2x \\tag{6}\\\n",
        "$$\n",
        "\n",
        "Donde $m$ es la pendiente (derivada) de (4) en $x_0$\n",
        "\n",
        "Las funciones (4) y (6) se muestran en la Fig. 3"
      ]
    },
    {
      "cell_type": "code",
      "metadata": {
        "id": "d-Dk5_mAvE-B"
      },
      "source": [
        "# función (4)\n",
        "y_x <- function(x) {\n",
        "    y = x^2\n",
        "    return(y)\n",
        "}\n",
        "\n",
        "# función (5)\n",
        "dydx <- function(x0) {\n",
        "    dy <- 2*x0\n",
        "    return(dy)\n",
        "}\n",
        "\n",
        "# función (6)\n",
        "yt_x <- function(x0, x) {\n",
        "    y = -1 + dydx(x0)*x\n",
        "    return(y)\n",
        "}"
      ],
      "execution_count": null,
      "outputs": []
    },
    {
      "cell_type": "code",
      "metadata": {
        "colab": {
          "base_uri": "https://localhost:8080/",
          "height": 437
        },
        "id": "eOdaBbKbvg4Z",
        "outputId": "004fbc63-8e18-4049-9aed-0455fec01751"
      },
      "source": [
        "# valores de x a evaluar\n",
        "x <- seq(-1,2,0.1)\n",
        "\n",
        "# mostrar funciones\n",
        "plot(x, y_x(x), type = \"l\", col = \"blue\", lwd = 3, xlab = \"x\", ylab = \"y\", cex.lab = 1.5)\n",
        "lines(x, yt_x(1,x), col = \"red\", lty = 2)\n",
        "points(1,1, cex = 2, pch = 20)\n",
        "abline(h = 0, v = 0)\n",
        "legend(\"bottomright\", legend = c(\"y\", \"yt\"), bty = \"n\", lty = c(1,2), lwd = 3,col = c(\"blue\", \"red\"), cex = 2)"
      ],
      "execution_count": null,
      "outputs": [
        {
          "output_type": "display_data",
          "data": {
            "image/png": "[encoded data removed]",
            "text/plain": [
              "plot without title"
            ]
          },
          "metadata": {
            "tags": [],
            "image/png": {
              "width": 420,
              "height": 420
            }
          }
        }
      ]
    },
    {
      "cell_type": "markdown",
      "metadata": {
        "id": "unFr4YIIxMOb"
      },
      "source": [
        "Figura 3. Grafica de $y$ vs $x$ y $y_t$ vs $x$. Nota como ambas funciones tienen valores similares de $y$ alrededor de $x_0 = 1$. "
      ]
    },
    {
      "cell_type": "markdown",
      "metadata": {
        "id": "kWEuq2ImxhLs"
      },
      "source": [
        "En la Fig. 3 se observa que ambas funciones tienen valores similares alrededor de $x_0 = 1$. Por lo tanto, una buena aproximación de (4) cerca de $x_0$ es (6). Es decir \n",
        "\n",
        "$$\n",
        "y \\approx y_t = 2x - 1\n",
        "$$\n",
        "\n",
        "Si usamos (6) como una aproximación de (4) podemos conocer el valor de un cambio en $y$, en (4), a partir de un cambio en $x$, cerca de $x_0$, de la siguiente manera\n",
        "\n",
        "$$\n",
        "\\Delta y = m \\Delta x, \\text{válido para una recta}\n",
        "$$\n",
        "\n",
        "o si despejamos $y_2$\n",
        "\n",
        "$$\n",
        "y_2 = y_1 + m(x_2 - x_1) \\tag{7}\n",
        "$$\n",
        "\n",
        "por lo tanto si conocemos los valores $x_0$, $x_1$, y $y_0$, podemos obtener $y_1$ a partir de (7)\n",
        "\n",
        "La ecuación (7) se puede generalizar para cualquier par de valores consecutivos $x_t$ y $x_{t+1}$ como \n",
        "\n",
        "$$\n",
        "y_{t+1} = y_t + \\frac{dy(x_t)}{dt}(x_{t+1} - x_t) \n",
        "$$\n",
        "\n",
        "si se establece el tamaño de paso como\n",
        "\n",
        "$$\n",
        "h = x_{t+1} - x_t \\tag{8}\n",
        "$$\n",
        "\n",
        "se tiene \n",
        "\n",
        "$$\n",
        "y_{t+1} = y_t + \\frac{dy(x_t)}{dt}h \\tag{9}\n",
        "$$\n",
        "\n",
        "Evaluando (9) de forma iterativa se logra obtener una buena aproximación de (4) partiendo de una condicion inicial $x_0$\n",
        "\n",
        "Nota: Hay que tener presente que (9) es válida para la función de una recta. Cuando la función que evaluamos no es una recta, como (4), hemos visto que si se evalua en un valor inicial $x_0$ y se hacen iteraciones consecutivas usando (9) para un tamaño de paso relativamente pequeño, entonces se obtiene una buena aproximación. Esto se puede apreciar en la Fig. 3 "
      ]
    },
    {
      "cell_type": "code",
      "metadata": {
        "id": "HE8d9TMc0l0N"
      },
      "source": [
        ""
      ],
      "execution_count": null,
      "outputs": []
    },
    {
      "cell_type": "code",
      "metadata": {
        "id": "67oSGb9CR1qI"
      },
      "source": [
        "install.packages(\"deSolve\")\n",
        "library(deSolve)"
      ],
      "execution_count": null,
      "outputs": []
    },
    {
      "cell_type": "markdown",
      "metadata": {
        "id": "ex6lPWxksk_Z"
      },
      "source": [
        "Declarar la función"
      ]
    }
  ]
}